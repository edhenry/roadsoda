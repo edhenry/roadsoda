{
 "cells": [
  {
   "cell_type": "markdown",
   "metadata": {},
   "source": [
    "# Demo environment\n",
    "\n",
    "This notebook will be used as an introduction to the control and image constructs available within the demo environment of both the robot interfaces and the camera interfaces.\n",
    "\n",
    "We will cover the steps necessary to connect to and control the robot while also collecting image data from the cameras mounted around and on the robotic arm.\n",
    "\n",
    "## Camera Access\n",
    "\n",
    "In this demo we'll be utilizing Intel's [RealSense D435i](https://www.intelrealsense.com/depth-camera-d435i/) for use with out robotic arm. We'll not only want to view these images, but we'll want to collect them as we perform tasks, as well. There any many use cases and approaches one can take when peforming tasks using robotics arms such as these that span the areas of standard supervised, unsupervised, and reinforcement learning. For this reason there will likely be a few combinations of data collection that we may want to employ.\n",
    "\n",
    "We will start with building the software constructs necessary to view and collect data from the Intel RealSense camera that is connected to the arm of our robot."
   ]
  },
  {
   "cell_type": "code",
   "execution_count": 1,
   "metadata": {},
   "outputs": [],
   "source": [
    "import pyrealsense2 as rs\n",
    "import numpy as np\n",
    "import cv2\n",
    "import os\n",
    "from ipywidgets import Image, HBox\n",
    "import IPython\n",
    "import PIL.Image\n",
    "from matplotlib import pyplot as plt\n",
    "import sys\n",
    "import threading\n",
    "import time\n",
    "import math\n",
    "import traitlets\n",
    "\n",
    "def bgr8_to_jpeg(value, quality=75):\n",
    "    return bytes(cv2.imencode('.jpg', value)[1])\n",
    "\n",
    "class Camera(traitlets.HasTraits): \n",
    "    \n",
    "    value = traitlets.Any()\n",
    "    running = traitlets.Bool(default_value=False)\n",
    "    \n",
    "    def __init__(self, serial_num: str, *args, **kwargs):\n",
    "        super(Camera, self).__init__(*args, **kwargs)\n",
    "        \n",
    "        self.serial_num = serial_num\n",
    "        \n",
    "        # Camera pipelines\n",
    "        self.pipeline = rs.pipeline()\n",
    "        self.config = rs.config()\n",
    "        self.config.enable_device(self.serial_num)\n",
    "        self.config.enable_stream(rs.stream.depth, int(640), int(480), rs.format.z16, 30)\n",
    "        self.config.enable_stream(rs.stream.color, int(640), int(480), rs.format.bgr8, 30)\n",
    "\n",
    "        self.pipeline.start(self.config)\n",
    "        self._running = False\n",
    "        \n",
    "        self.value = None\n",
    "    \n",
    "    def stream(self):\n",
    "        while True:\n",
    "            self.frames = self.pipeline.wait_for_frames()\n",
    "            self.depth_frame = self.frames.get_depth_frame()\n",
    "            self.color_frame = self.frames.get_color_frame()\n",
    "            depth_image = np.asanyarray(self.depth_frame.get_data())\n",
    "            color_image = np.asanyarray(self.color_frame.get_data())\n",
    "\n",
    "            depth_colormap = cv2.applyColorMap(cv2.convertScaleAbs(depth_image, alpha=0.3), cv2.COLORMAP_JET)\n",
    "\n",
    "            self.value = np.hstack((color_image, depth_colormap))\n",
    "    \n",
    "    @traitlets.observe('running')\n",
    "    def view_camera(self, change):\n",
    "        if change['new'] and not change['old']:\n",
    "            self._running = True\n",
    "            thread = threading.Thread(target=self.stream)\n",
    "            thread.start()\n",
    "        if change['old'] and not change['new']:\n",
    "            self._running = False\n",
    "            # join thread to kill it\n",
    "            self.thread.join()"
   ]
  },
  {
   "cell_type": "code",
   "execution_count": 2,
   "metadata": {},
   "outputs": [],
   "source": [
    "cam_2 = Camera(serial_num='923322072160')\n",
    "image_widget_2 = Image(format='jpeg')\n",
    "\n",
    "def update_image_2(change):\n",
    "    image_2 = change['new']\n",
    "    image_widget_2.value = bgr8_to_jpeg(image_2)"
   ]
  },
  {
   "cell_type": "code",
   "execution_count": 3,
   "metadata": {},
   "outputs": [],
   "source": [
    "cam_2.running = True\n",
    "cam_2.observe(update_image_2, names='value')"
   ]
  },
  {
   "cell_type": "code",
   "execution_count": 4,
   "metadata": {},
   "outputs": [
    {
     "data": {
      "application/vnd.jupyter.widget-view+json": {
       "model_id": "88c4e52d760d4eb2a0d266c873c53ce6",
       "version_major": 2,
       "version_minor": 0
      },
      "text/plain": [
       "Image(value=b'\\xff\\xd8\\xff\\xe0\\x00\\x10JFIF\\x00\\x01\\x01\\x00\\x00\\x01\\x00\\x01\\x00\\x00\\xff\\xdb\\x00C\\x00\\x02\\x01\\x0…"
      ]
     },
     "metadata": {},
     "output_type": "display_data"
    }
   ],
   "source": [
    "camera_link1 = traitlets.dlink((cam_2, 'value'), (image_widget_2, 'value'), transform=bgr8_to_jpeg)\n",
    "display(image_widget_2)"
   ]
  },
  {
   "cell_type": "code",
   "execution_count": 5,
   "metadata": {},
   "outputs": [],
   "source": [
    "cam = Camera(serial_num='937422071477')\n",
    "#cam_1.serial_num=''\n",
    "image_widget = Image(format='jpeg')\n",
    "\n",
    "def update_image(change):\n",
    "    image = change['new']\n",
    "    image_widget.value = bgr8_to_jpeg(image)"
   ]
  },
  {
   "cell_type": "code",
   "execution_count": 6,
   "metadata": {},
   "outputs": [],
   "source": [
    "cam.running = True\n",
    "cam.observe(update_image, names='value')"
   ]
  },
  {
   "cell_type": "code",
   "execution_count": 7,
   "metadata": {},
   "outputs": [
    {
     "data": {
      "application/vnd.jupyter.widget-view+json": {
       "model_id": "d3ffc0d747284d418a88f406c2ef3e63",
       "version_major": 2,
       "version_minor": 0
      },
      "text/plain": [
       "Image(value=b'\\xff\\xd8\\xff\\xe0\\x00\\x10JFIF\\x00\\x01\\x01\\x00\\x00\\x01\\x00\\x01\\x00\\x00\\xff\\xdb\\x00C\\x00\\x02\\x01\\x0…"
      ]
     },
     "metadata": {},
     "output_type": "display_data"
    }
   ],
   "source": [
    "camera_link0 = traitlets.dlink((cam, 'value'), (image_widget, 'value'), transform=bgr8_to_jpeg)\n",
    "display(image_widget)"
   ]
  },
  {
   "cell_type": "markdown",
   "metadata": {},
   "source": [
    "## Robotic Arm Access\n",
    "\n",
    "The arm that we are utilizing in this demo is the [ufactory xarm](https://www.xarm.cc/). The company is generous enough to provide an open source python SDK for development against the platform. We will be utilizing this SDK heavily in this demo. It is assumed that the controller being used (in our case an Ubuntu 18.04) already has this SDK installed. If it does not, please follow the installation instructions found [here](https://github.com/xArm-Developer/xArm-Python-SDK#installation)"
   ]
  },
  {
   "cell_type": "code",
   "execution_count": 8,
   "metadata": {},
   "outputs": [
    {
     "name": "stdout",
     "output_type": "stream",
     "text": [
      "main-socket connect 192.168.1.244 success\n",
      "report-socket connect 192.168.1.244 success\n",
      "is_old_protocol: False\n",
      "version_number: 1.3.1\n",
      "=============sync_all\n",
      "[motion_enable], xArm is not ready to move\n",
      "[set_state], xArm is ready to move\n"
     ]
    }
   ],
   "source": [
    "from xarm.wrapper import XArmAPI\n",
    "\n",
    "arm = XArmAPI('192.168.1.244')\n",
    "arm.motion_enable(enable=True)\n",
    "arm.set_mode(0)\n",
    "arm.set_state(state=0)\n",
    "speed = 50"
   ]
  },
  {
   "cell_type": "code",
   "execution_count": 15,
   "metadata": {},
   "outputs": [],
   "source": [
    "for i in range(50):\n",
    "    if i%2 == 0:\n",
    "        arm.set_servo_angle(angle=[0, 0, -20, -90, 0], speed=speed, wait=True)\n",
    "    else:\n",
    "        arm.set_servo_angle(angle=[0,0,-20,-10,0], speed=speed, wait=True)"
   ]
  },
  {
   "cell_type": "code",
   "execution_count": 11,
   "metadata": {},
   "outputs": [],
   "source": [
    "for i in range(-10,-90):\n",
    "    print(i)"
   ]
  },
  {
   "cell_type": "code",
   "execution_count": null,
   "metadata": {},
   "outputs": [],
   "source": [
    "ctx = rs.context()\n",
    "for d in ctx.devices:\n",
    "    print(d)"
   ]
  },
  {
   "cell_type": "code",
   "execution_count": null,
   "metadata": {},
   "outputs": [],
   "source": []
  }
 ],
 "metadata": {
  "kernelspec": {
   "display_name": "Python 3",
   "language": "python",
   "name": "python3"
  },
  "language_info": {
   "codemirror_mode": {
    "name": "ipython",
    "version": 3
   },
   "file_extension": ".py",
   "mimetype": "text/x-python",
   "name": "python",
   "nbconvert_exporter": "python",
   "pygments_lexer": "ipython3",
   "version": "3.6.9"
  }
 },
 "nbformat": 4,
 "nbformat_minor": 2
}
