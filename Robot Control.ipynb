{
 "cells": [
  {
   "cell_type": "code",
   "execution_count": null,
   "metadata": {},
   "outputs": [],
   "source": [
    "!wget http://download.tensorflow.org/models/object_detection/mask_rcnn_resnet50_atrous_coco_2018_01_28.tar.gz"
   ]
  },
  {
   "cell_type": "code",
   "execution_count": null,
   "metadata": {},
   "outputs": [],
   "source": [
    "!git clone https://github.com/facebookresearch/detectron2 detectron2_repo\n",
    "!sudo python3 -m pip install -e detectron2_repo"
   ]
  },
  {
   "cell_type": "code",
   "execution_count": null,
   "metadata": {},
   "outputs": [],
   "source": [
    "import detectron2\n",
    "from detectron2.utils.logger import setup_logger\n",
    "setup_logger()\n",
    "\n",
    "# import some common libraries\n",
    "import numpy as np\n",
    "import cv2\n",
    "import random\n",
    "\n",
    "# import some common detectron2 utilities\n",
    "from detectron2 import model_zoo\n",
    "from detectron2.engine import DefaultPredictor\n",
    "from detectron2.config import get_cfg\n",
    "from detectron2.utils.visualizer import Visualizer\n",
    "from detectron2.data import MetadataCatalog"
   ]
  },
  {
   "cell_type": "code",
   "execution_count": null,
   "metadata": {},
   "outputs": [],
   "source": [
    "import ipywidgets.widgets as widgets\n",
    "\n",
    "controller = widgets.Controller(index=0)\n",
    "display(controller)"
   ]
  },
  {
   "cell_type": "code",
   "execution_count": 1,
   "metadata": {},
   "outputs": [],
   "source": [
    "import traitlets\n",
    "from xarm.wrapper import XArmAPI\n",
    "\n",
    "\n",
    "class xArm(traitlets.HasTraits):    \n",
    "    servo1 = traitlets.Float()\n",
    "    servo2 = traitlets.Float()\n",
    "    servo3 = traitlets.Float()\n",
    "    servo4 = traitlets.Float()\n",
    "    servo5 = traitlets.Float()\n",
    "    \n",
    "    @traitlets.validate('servo1')\n",
    "    def _clip_servo1(self, proposal):\n",
    "        if proposal['value'] < -50.0:\n",
    "            print(f\"Received servo1 value of {proposal['value']}. Value not allowed below -50.0. Returning -50.0.\")\n",
    "            return -50.0\n",
    "        elif proposal['value'] > 50.0:\n",
    "            print(f\"Received servo1 value of {proposal['value']}. Value not allowed to exceed 50.0. Returning 50.0.\")\n",
    "            return 50.0\n",
    "        else:\n",
    "            return proposal['value']\n",
    "    \n",
    "    @traitlets.validate('servo2')\n",
    "    def _clip_servo2(self, proposal):\n",
    "        \"\"\"\n",
    "        Clip values for servo2 on the xArm to safe values for our work surface\n",
    "        \"\"\"\n",
    "        if proposal['value'] < -40:\n",
    "            print(f\"Received servo2 value of {proposal['value']}. Value not allowed below -40.0. Returning 0.0.\")\n",
    "            return -40.0\n",
    "        \n",
    "        elif proposal['value'] > 15.0:\n",
    "            print(f\"Received servo2 value of {proposal['value']}. Value not allowed to exceed 15.0. Returning 15.0.\")\n",
    "        else:\n",
    "            return proposal['value']\n",
    "        \n",
    "    @traitlets.validate('servo3')\n",
    "    def _clip_servo3(self, proposal):\n",
    "        \"\"\"\n",
    "        Clip values for servo3 on the xArm to safe values for our work surface\n",
    "        \"\"\"\n",
    "        if proposal['value'] < 0.0:\n",
    "            print(f\"Received servo3 value of {proposal['value']}. Value not allowed below 0.0. Returning 0.0.\")\n",
    "            return 0.0\n",
    "        \n",
    "        elif proposal['value'] > 180.0:\n",
    "            print(f\"Received servo3 value of {proposal['value']}. Value not allowed to exceed -180.0. Returning -180.0.\")\n",
    "        else:\n",
    "            return proposal['value']\n",
    "        \n",
    "    @traitlets.validate('servo4')\n",
    "    def _clip_servo4(self, proposal):\n",
    "        \"\"\"\n",
    "        Clip values for servo4 on the xArm to safe values for our work surface\n",
    "        \"\"\"\n",
    "        if proposal['value'] > -20.0:\n",
    "            print(f\"Received servo4 value of {proposal['value']}. Value not allowed to exceed -20.0. Returning -20.0.\")\n",
    "            return -20.0\n",
    "        \n",
    "        elif proposal['value'] < -90.0:\n",
    "            print(f\"Received servo value of {proposal['value']}. Value not allowed below -90.0. Returning -90.0.\")\n",
    "        else:\n",
    "            return proposal['value']\n",
    "        \n",
    "    @traitlets.validate('servo5')\n",
    "    def _clip_servo5(self, proposal):\n",
    "        \"\"\"\n",
    "        Clip values for servo5 on the xArm to safe values for our work surface\n",
    "        \"\"\"\n",
    "        if proposal['value'] > 180.0:\n",
    "            print(f\"Received sensor5 value of {proposal['value']}. Value not allowed to exceed 180.0. Returning 180.0.\")\n",
    "            return 180.0\n",
    "        elif proposal['value'] < -180.0:\n",
    "            print(f\"Received sensor5 value of {proposal['value']}. Value not allowed below -180.0. Returning -180.0\")\n",
    "        else:\n",
    "            return proposal['value']\n",
    "\n",
    "class DrinkArm(xArm):    \n",
    "    def __init__(self, ip: str, motion_enable: bool,\n",
    "                 mode: int, state: int, speed: int, *args, **kwargs):\n",
    "        super(DrinkArm, self).__init__(*args, **kwargs)\n",
    "        self.ip = ip\n",
    "        self.motion_enable = motion_enable\n",
    "        self.mode = mode\n",
    "        self.state = state\n",
    "        self.speed = speed\n",
    "        \n",
    "        self.arm = XArmAPI(self.ip)\n",
    "        self.arm.motion_enable(enable=motion_enable)\n",
    "        self.arm.set_mode(mode)\n",
    "        self.arm.set_state(state=state)\n",
    "        \n",
    "        @traitlets.observe('servo1')\n",
    "        def _on_servo1(self, change):\n",
    "            self.arm.set_servo_angle(servo_id=1, angle=change['new'], speed=self.speed, wait=False)\n",
    "        \n",
    "        @traitlets.observe('servo2')\n",
    "        def _on_servo2(self, change):\n",
    "            self.arm.set_servo_angle(servo_id=2, angle=change['new'], speed=self.speed, wait=False)\n",
    "        \n",
    "        @traitlets.observe('servo3')\n",
    "        def _on_servo3(self, change):\n",
    "            self.arm.set_servo_angle(servo_id=3, angle=change['new'], speed=self.speed, wait=False)\n",
    "        \n",
    "        @traitlets.observe('servo4')\n",
    "        def _on_servo4(self, change):\n",
    "            self.arm.set_servo_angle(servo_id=4, angle=change['new'], speed=self.speed, wait=False)\n",
    "        \n",
    "        @traitlets.observe('servo5')\n",
    "        def _on_servo5(self, change):\n",
    "            self.arm.set_servo_angle(servo_id=5, angle=change['new'], speed=self.speed, wait=False)"
   ]
  },
  {
   "cell_type": "code",
   "execution_count": 2,
   "metadata": {},
   "outputs": [
    {
     "name": "stdout",
     "output_type": "stream",
     "text": [
      "main-socket connect 192.168.1.244 success\n",
      "report-socket connect 192.168.1.244 success\n",
      "is_old_protocol: False\n",
      "version_number: 1.3.1\n",
      "=============sync_all\n",
      "[motion_enable], xArm is not ready to move\n",
      "[set_state], xArm is ready to move\n"
     ]
    }
   ],
   "source": [
    "arm = DrinkArm(ip='192.168.1.244', motion_enable=True, mode=0,\n",
    "               state=0, speed=50)"
   ]
  },
  {
   "cell_type": "code",
   "execution_count": 13,
   "metadata": {},
   "outputs": [],
   "source": [
    "def update_servo1(change):\n",
    "    print(change['new'])\n",
    "\n",
    "arm.observe(update_servo1, 'value')"
   ]
  },
  {
   "cell_type": "code",
   "execution_count": 14,
   "metadata": {},
   "outputs": [],
   "source": [
    "arm.servo1 = 10"
   ]
  },
  {
   "cell_type": "code",
   "execution_count": null,
   "metadata": {},
   "outputs": [],
   "source": []
  }
 ],
 "metadata": {
  "kernelspec": {
   "display_name": "Python 3",
   "language": "python",
   "name": "python3"
  },
  "language_info": {
   "codemirror_mode": {
    "name": "ipython",
    "version": 3
   },
   "file_extension": ".py",
   "mimetype": "text/x-python",
   "name": "python",
   "nbconvert_exporter": "python",
   "pygments_lexer": "ipython3",
   "version": "3.6.9"
  }
 },
 "nbformat": 4,
 "nbformat_minor": 4
}
